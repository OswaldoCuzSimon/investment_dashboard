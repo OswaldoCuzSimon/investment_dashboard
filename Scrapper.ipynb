{
 "cells": [
  {
   "cell_type": "code",
   "execution_count": null,
   "metadata": {},
   "outputs": [],
   "source": [
    "from extract.common import credentials\n",
    "from extract.common import config"
   ]
  },
  {
   "cell_type": "code",
   "execution_count": null,
   "metadata": {},
   "outputs": [],
   "source": []
  },
  {
   "cell_type": "code",
   "execution_count": null,
   "metadata": {},
   "outputs": [],
   "source": [
    "import pymongo\n",
    "from bson.json_util import dumps\n",
    "\n",
    "host = config()['mongodb']['host']\n",
    "user = credentials()['mongodb']['user']\n",
    "password = credentials()['mongodb']['password']\n",
    "\n",
    "class SaveProjects(object):\n",
    "    def __init__(self):\n",
    "        uri = \"mongodb+srv://{}:{}@{}/test?retryWrites=true\".format(user,password,host)\n",
    "        client = pymongo.MongoClient(uri)\n",
    "        self._db = client[config()['mongodb']['db']['name']]\n",
    "    \n",
    "    def save(self, projects):\n",
    "        self._db.project.insert_many(projects)"
   ]
  },
  {
   "cell_type": "code",
   "execution_count": null,
   "metadata": {
    "scrolled": true
   },
   "outputs": [],
   "source": [
    "save_project = SaveProjects()"
   ]
  },
  {
   "cell_type": "code",
   "execution_count": null,
   "metadata": {},
   "outputs": [],
   "source": [
    "save_project._db.project.delete_many({})"
   ]
  },
  {
   "cell_type": "code",
   "execution_count": null,
   "metadata": {},
   "outputs": [],
   "source": [
    "save_project._db.project.estimated_document_count()\n",
    "[i for i in save_project._db.project.find()]"
   ]
  },
  {
   "cell_type": "code",
   "execution_count": null,
   "metadata": {},
   "outputs": [],
   "source": [
    "save_project.save([{\"a\":1},{\"b\":2}])"
   ]
  },
  {
   "cell_type": "code",
   "execution_count": null,
   "metadata": {},
   "outputs": [],
   "source": []
  },
  {
   "cell_type": "code",
   "execution_count": null,
   "metadata": {},
   "outputs": [],
   "source": []
  },
  {
   "cell_type": "raw",
   "metadata": {},
   "source": [
    "time = 119\n",
    "capital = 12000\n",
    "yield_ = 0.18\n",
    "investment_return(capital, time, yield_)"
   ]
  },
  {
   "cell_type": "code",
   "execution_count": null,
   "metadata": {},
   "outputs": [],
   "source": [
    "from calculator.cumplo import predict_by_year"
   ]
  },
  {
   "cell_type": "code",
   "execution_count": null,
   "metadata": {},
   "outputs": [],
   "source": [
    "vehicles = [{\n",
    "    \"time\": 60,\n",
    "    \"yield\": 0.18,\n",
    "    \"capital\": 0\n",
    "} for i in range(30)]\n",
    "vehicles[0]['capital'] = 5000\n",
    "prediction = predict_by_year(vehicles)\n",
    "prediction"
   ]
  },
  {
   "cell_type": "code",
   "execution_count": null,
   "metadata": {},
   "outputs": [],
   "source": [
    "import pandas as pd\n",
    "import numpy as np\n",
    "import datetime\n",
    "\n",
    "import iplotter\n",
    "from IPython.core.display import HTML\n",
    "from visualize.chart import Chart"
   ]
  },
  {
   "cell_type": "code",
   "execution_count": null,
   "metadata": {},
   "outputs": [],
   "source": [
    "today = datetime.datetime.now()\n",
    "time = np.array([today + datetime.timedelta(i['time']) for i in prediction['time_serie']])\n",
    "capital = np.array([i['capital'] for i in prediction['time_serie']])\n",
    "return_ = np.array([i['return']['return'] for i in prediction['time_serie']])\n",
    "ts = pd.Series(return_, index=time)\n",
    "ts = ts.cumsum()\n",
    "df = pd.DataFrame({\"return\": return_}, index = time )\n",
    "df = df.cumsum()\n",
    "df['capital'] = pd.Series(capital, index=time)\n",
    "\n",
    "invested = (df['capital']-df['return']).tolist()\n",
    "profits = df['return'].tolist()\n",
    "x = df.index.strftime('%Y-%m-%d').tolist()"
   ]
  },
  {
   "cell_type": "code",
   "execution_count": null,
   "metadata": {},
   "outputs": [],
   "source": [
    "chart = Chart().stacked_area(x, profits, invested)\n",
    "HTML(Chart.html)\n",
    "c3_plotter = iplotter.C3Plotter()\n",
    "c3_plotter.plot(chart)"
   ]
  },
  {
   "cell_type": "code",
   "execution_count": null,
   "metadata": {},
   "outputs": [],
   "source": []
  },
  {
   "cell_type": "code",
   "execution_count": null,
   "metadata": {},
   "outputs": [],
   "source": []
  },
  {
   "cell_type": "code",
   "execution_count": null,
   "metadata": {},
   "outputs": [],
   "source": [
    "\n"
   ]
  },
  {
   "cell_type": "code",
   "execution_count": null,
   "metadata": {},
   "outputs": [],
   "source": []
  },
  {
   "cell_type": "code",
   "execution_count": null,
   "metadata": {},
   "outputs": [],
   "source": []
  },
  {
   "cell_type": "code",
   "execution_count": null,
   "metadata": {},
   "outputs": [],
   "source": []
  },
  {
   "cell_type": "code",
   "execution_count": null,
   "metadata": {},
   "outputs": [],
   "source": []
  },
  {
   "cell_type": "code",
   "execution_count": null,
   "metadata": {},
   "outputs": [],
   "source": []
  },
  {
   "cell_type": "code",
   "execution_count": null,
   "metadata": {},
   "outputs": [],
   "source": []
  }
 ],
 "metadata": {
  "kernelspec": {
   "display_name": "Python 3",
   "language": "python",
   "name": "python3"
  },
  "language_info": {
   "codemirror_mode": {
    "name": "ipython",
    "version": 3
   },
   "file_extension": ".py",
   "mimetype": "text/x-python",
   "name": "python",
   "nbconvert_exporter": "python",
   "pygments_lexer": "ipython3",
   "version": "3.6.7"
  }
 },
 "nbformat": 4,
 "nbformat_minor": 2
}
