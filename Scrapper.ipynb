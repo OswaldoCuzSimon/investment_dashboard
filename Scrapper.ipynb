{
 "cells": [
  {
   "cell_type": "code",
   "execution_count": null,
   "metadata": {},
   "outputs": [],
   "source": [
    "#import requests\n",
    "import time\n",
    "import re\n",
    "import time\n",
    "from datetime import datetime\n",
    "from bs4 import BeautifulSoup\n",
    "from selenium import webdriver\n",
    "from selenium.webdriver.support.ui import WebDriverWait\n",
    "from selenium.webdriver.support import expected_conditions as EC\n",
    "from selenium.webdriver.common.by import By\n",
    "from selenium.webdriver.common.keys import Keys\n",
    "from selenium.common.exceptions import TimeoutException\n",
    "from extract.common import config\n",
    "from extract.common import credentials\n",
    "from extract.common import browser\n",
    "from extract.log_in_page import LogInPage\n",
    "from extract.project_list_page import CumploProjectListPage\n",
    "from extract.project_list_page import BriqProjectListPage"
   ]
  },
  {
   "cell_type": "raw",
   "metadata": {},
   "source": [
    "login_page = LogInPage('cumplo')\n",
    "login_page.navigate()\n",
    "project_page = CumploProjectListPage()\n",
    "project_page.navigate()\n",
    "project_page.project_urls"
   ]
  },
  {
   "cell_type": "code",
   "execution_count": null,
   "metadata": {},
   "outputs": [],
   "source": [
    "login_page = LogInPage('briq')\n",
    "login_page.navigate()\n",
    "project_page = BriqProjectListPage()\n",
    "project_page.navigate()\n",
    "project_page.project_urls"
   ]
  },
  {
   "cell_type": "code",
   "execution_count": null,
   "metadata": {},
   "outputs": [],
   "source": [
    "class ProjectPage(object):\n",
    "    def __init__(self, investment_site_uid, home):\n",
    "        self._config = config()['investment_sites'][investment_site_uid]\n",
    "        self._browser = browser()\n",
    "        self._soup = None\n",
    "        self._home = \"{}{}\".format(self._config['url'], home)\n",
    "    \n",
    "    @property\n",
    "    def name(self):\n",
    "        return self._browser.find_element_by_xpath(\n",
    "            self._config['project']['name']).text\n",
    "    \n",
    "    @property\n",
    "    def location(self):\n",
    "        return self._browser.find_element_by_xpath(\n",
    "            self._config['project']['location']).text\n",
    "    \n",
    "    @property\n",
    "    def annual_rate(self):\n",
    "        return self._browser.find_element_by_xpath(\n",
    "            self._config['project']['annual_rate']).text\n",
    "    \n",
    "    @property\n",
    "    def minimum_invest(self):\n",
    "        return self._browser.find_element_by_xpath(\n",
    "            self._config['project']['minimum_invest']).text\n",
    "    @property\n",
    "    def commission(self):\n",
    "        return self._browser.find_element_by_xpath(\n",
    "            self._config['project']['commission']).text\n",
    "    \n",
    "    @property\n",
    "    def time_remain(self):\n",
    "        return self._browser.find_element_by_xpath(\n",
    "            self._config['project']['time']['remain']).text\n",
    "    \n",
    "    @property\n",
    "    def time_min(self):\n",
    "        return self._browser.find_element_by_xpath(\n",
    "            self._config['project']['time']['min']).text\n",
    "    \n",
    "    @property\n",
    "    def time_max(self):\n",
    "        return self._browser.find_element_by_xpath(\n",
    "            self._config['project']['time']['max']).text\n",
    "    \n",
    "    @property\n",
    "    def capital_target(self):\n",
    "        return self._browser.find_element_by_xpath(\n",
    "            self._config['project']['capital']['target']).text\n",
    "    \n",
    "    @property\n",
    "    def capital_current(self):\n",
    "        return self._browser.find_element_by_xpath(\n",
    "            self._config['project']['capital']['current']).text\n",
    "\n",
    "    @property\n",
    "    def capital_porcentege(self):\n",
    "        return self._browser.find_element_by_xpath(\n",
    "            self._config['project']['capital']['porcentege']).text\n",
    "    \n",
    "    def navigate(self):\n",
    "        self._browser.get(self._home)\n",
    "        self._browser.implicitly_wait(10)\n"
   ]
  },
  {
   "cell_type": "code",
   "execution_count": null,
   "metadata": {},
   "outputs": [],
   "source": [
    "self = ProjectPage('briq', '/proyectos/pestalozziC10')\n",
    "self.navigate()"
   ]
  },
  {
   "cell_type": "code",
   "execution_count": null,
   "metadata": {},
   "outputs": [],
   "source": []
  },
  {
   "cell_type": "code",
   "execution_count": null,
   "metadata": {},
   "outputs": [],
   "source": [
    "self._browser.find_element_by_xpath(\n",
    "            self._config['project']['capital']['porcentege']).text"
   ]
  },
  {
   "cell_type": "code",
   "execution_count": null,
   "metadata": {},
   "outputs": [],
   "source": [
    "self._config['project']"
   ]
  },
  {
   "cell_type": "code",
   "execution_count": null,
   "metadata": {},
   "outputs": [],
   "source": [
    "import collections\n",
    "\n",
    "def map_nested_dicts(ob, func):\n",
    "    if isinstance(ob, collections.Mapping):\n",
    "        return {k: map_nested_dicts(v, func) for k, v in ob.items()}\n",
    "    else:\n",
    "        return func(ob)\n",
    "\n",
    "map_nested_dicts(self._config['project'], lambda v: self._browser.find_element_by_xpath(v).text)"
   ]
  },
  {
   "cell_type": "code",
   "execution_count": null,
   "metadata": {},
   "outputs": [],
   "source": [
    "self._config['project']"
   ]
  },
  {
   "cell_type": "code",
   "execution_count": null,
   "metadata": {},
   "outputs": [],
   "source": [
    "\n",
    "self._browser.find_element_by_xpath('//*[@id=\"developers-layout\"]/div[4]/div/div/div[2]/div[3]').text"
   ]
  },
  {
   "cell_type": "code",
   "execution_count": null,
   "metadata": {},
   "outputs": [],
   "source": []
  }
 ],
 "metadata": {
  "kernelspec": {
   "display_name": "Python 3",
   "language": "python",
   "name": "python3"
  },
  "language_info": {
   "codemirror_mode": {
    "name": "ipython",
    "version": 3
   },
   "file_extension": ".py",
   "mimetype": "text/x-python",
   "name": "python",
   "nbconvert_exporter": "python",
   "pygments_lexer": "ipython3",
   "version": "3.6.7"
  }
 },
 "nbformat": 4,
 "nbformat_minor": 2
}
