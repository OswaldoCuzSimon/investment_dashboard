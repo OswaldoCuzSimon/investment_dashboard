{
 "cells": [
  {
   "cell_type": "code",
   "execution_count": null,
   "metadata": {},
   "outputs": [],
   "source": [
    "from extract.scraper import Scraper"
   ]
  },
  {
   "cell_type": "code",
   "execution_count": null,
   "metadata": {},
   "outputs": [],
   "source": [
    "scraper = Scraper()\n",
    "scraper.scrape('cumplo')"
   ]
  },
  {
   "cell_type": "raw",
   "metadata": {},
   "source": [
    "login_page = LogInPage('briq')\n",
    "login_page.navigate()\n",
    "project_list_page = BriqProjectListPage()\n",
    "project_list_page.navigate()\n"
   ]
  },
  {
   "cell_type": "raw",
   "metadata": {},
   "source": [
    "login_page = LogInPage('cumplo')\n",
    "login_page.navigate()\n",
    "project_list_page = CumploProjectListPage()\n",
    "project_list_page.navigate()\n",
    "project_list_page.project_urls"
   ]
  },
  {
   "cell_type": "raw",
   "metadata": {},
   "source": [
    "self = CumploProjectPage('/solicitud/MX/90')\n",
    "self.navigate()\n",
    "payload = self.payload\n",
    "payload"
   ]
  },
  {
   "cell_type": "raw",
   "metadata": {},
   "source": [
    "site = 'cumplo'\n",
    "\n",
    "login_page = LogInPage(site)\n",
    "login_page.navigate()\n"
   ]
  },
  {
   "cell_type": "raw",
   "metadata": {},
   "source": [
    "project_list_page = ProjectList().factory(site)\n",
    "project_list_page.navigate()\n",
    "\n",
    "payloads = []\n",
    "project_page = Project().factory(site)\n",
    "\n",
    "producer = ScrappingProducer('python-stream')\n",
    "thing_id = 'aa-bb'\n",
    "\n",
    "for url_project in project_list_page.project_urls:\n",
    "    project_page.home = url_project\n",
    "    project_page.navigate()\n",
    "    payload = project_page.payload\n",
    "    put_response = producer.put_to_stream(thing_id, json.dumps(payload))\n"
   ]
  },
  {
   "cell_type": "code",
   "execution_count": null,
   "metadata": {},
   "outputs": [],
   "source": []
  },
  {
   "cell_type": "code",
   "execution_count": null,
   "metadata": {
    "scrolled": true
   },
   "outputs": [],
   "source": []
  },
  {
   "cell_type": "code",
   "execution_count": null,
   "metadata": {},
   "outputs": [],
   "source": []
  },
  {
   "cell_type": "code",
   "execution_count": null,
   "metadata": {},
   "outputs": [],
   "source": []
  },
  {
   "cell_type": "code",
   "execution_count": null,
   "metadata": {},
   "outputs": [],
   "source": []
  }
 ],
 "metadata": {
  "kernelspec": {
   "display_name": "Python 3",
   "language": "python",
   "name": "python3"
  },
  "language_info": {
   "codemirror_mode": {
    "name": "ipython",
    "version": 3
   },
   "file_extension": ".py",
   "mimetype": "text/x-python",
   "name": "python",
   "nbconvert_exporter": "python",
   "pygments_lexer": "ipython3",
   "version": "3.6.7"
  }
 },
 "nbformat": 4,
 "nbformat_minor": 2
}
