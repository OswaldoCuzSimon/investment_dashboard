{
 "cells": [
  {
   "cell_type": "code",
   "execution_count": null,
   "metadata": {},
   "outputs": [],
   "source": [
    "#import requests\n",
    "import time\n",
    "import re\n",
    "import time\n",
    "from datetime import datetime\n",
    "from bs4 import BeautifulSoup\n",
    "from selenium import webdriver\n",
    "from selenium.webdriver.support.ui import WebDriverWait\n",
    "from selenium.webdriver.support import expected_conditions as EC\n",
    "from selenium.webdriver.common.by import By\n",
    "from selenium.webdriver.common.keys import Keys\n",
    "from selenium.common.exceptions import TimeoutException\n",
    "from extract.common import config\n",
    "from extract.common import credentials\n",
    "from extract.common import browser\n",
    "from extract.log_in_page import LogInPage\n",
    "from extract.project_list_page import CumploProjectListPage\n",
    "from extract.project_list_page import BriqProjectListPage\n",
    "from extract.project_page import map_nested_dicts\n",
    "from extract.project_page import extract_number"
   ]
  },
  {
   "cell_type": "code",
   "execution_count": null,
   "metadata": {},
   "outputs": [],
   "source": [
    "login_page = LogInPage('cumplo')\n",
    "login_page.navigate()"
   ]
  },
  {
   "cell_type": "code",
   "execution_count": null,
   "metadata": {},
   "outputs": [],
   "source": [
    "project_page = CumploProjectListPage()\n",
    "project_page.navigate()\n",
    "project_page.project_urls"
   ]
  },
  {
   "cell_type": "raw",
   "metadata": {},
   "source": [
    "login_page = LogInPage('briq')\n",
    "login_page.navigate()\n",
    "project_page = BriqProjectListPage()\n",
    "project_page.navigate()\n",
    "project_page.project_urls"
   ]
  },
  {
   "cell_type": "code",
   "execution_count": null,
   "metadata": {},
   "outputs": [],
   "source": [
    "class ProjectPage(object):\n",
    "    def __init__(self, investment_site_uid, home):\n",
    "        self._config = config()['investment_sites'][investment_site_uid]\n",
    "        self._browser = browser()\n",
    "        self._soup = None\n",
    "        self._home = \"{}{}\".format(self._config['url'], home)\n",
    "    \n",
    "    def navigate(self):\n",
    "        self._browser.get(self._home)\n",
    "        self._browser.implicitly_wait(int(config()['driver']['implicitly_wait']))\n",
    "    \n",
    "    def _clean_payload(self, payload_):\n",
    "        pass\n",
    "    \n",
    "    @property\n",
    "    def payload(self):\n",
    "        \n",
    "        payload_ = map_nested_dicts(\n",
    "            self._config['project']['payload'],\n",
    "            lambda v: self._browser.find_element_by_xpath(v).text\n",
    "        )\n",
    "        self._clean_payload(payload_)\n",
    "        return payload_\n",
    "    \n",
    "class CumploProjectPage(ProjectPage):\n",
    "    def __init__(self, home):\n",
    "        ProjectPage.__init__(self, 'cumplo', home)\n",
    "    \n",
    "    def _clean_payload(self, payload_):\n",
    "        payload_['commission'] = extract_number(\"quantity\", payload_['commission'])\n",
    "        payload_['minimum_invest'] = extract_number(\"quantity\", payload_['minimum_invest'])\n",
    "        payload_['capital']['remain'] = extract_number(\"quantity\", payload_['capital']['remain'])\n",
    "        payload_['capital']['target'] = extract_number(\"quantity\", payload_['capital']['target'])\n",
    "        payload_['simulator']['net_installment'] = extract_number(\"quantity\", payload_['simulator']['net_installment'])\n",
    "        payload_['simulator']['installment'] = extract_number(\"quantity\", payload_['simulator']['installment'])\n",
    "\n",
    "        payload_['annual_rate'] = extract_number('percentage', payload_['annual_rate'])\n",
    "        payload_['capital']['percentage'] = extract_number(\"percentage\", payload_['capital']['percentage'])\n",
    "\n",
    "    def simulator(self):\n",
    "        self._browser.find_element_by_xpath(\n",
    "                self._config['projetc']['simulator']).click()\n",
    "    def navigate(self):\n",
    "        self._browser.get(self._home)\n",
    "        html = self._browser.find_element_by_tag_name('html')\n",
    "        html.send_keys(Keys.END)\n",
    "        WebDriverWait(self._browser, 10).until(\n",
    "            EC.visibility_of_element_located((\n",
    "                By.XPATH, self._config['project']['simulator']['calculate']))\n",
    "        )\n",
    "\n",
    "        WebDriverWait(self._browser, 10).until(\n",
    "            EC.element_to_be_clickable((\n",
    "                By.XPATH, self._config['project']['simulator']['calculate']))\n",
    "        )\n",
    "\n",
    "        self._browser.find_element_by_xpath(\n",
    "                self._config['project']['simulator']['calculate']).click()\n",
    "        \n",
    "        WebDriverWait(self._browser, 10).until(\n",
    "            EC.element_to_be_clickable((\n",
    "                By.XPATH, self._config['project']['simulator']['show']))\n",
    "        )\n",
    "        self._browser.find_element_by_xpath(\n",
    "                self._config['project']['simulator']['show']).click()\n"
   ]
  },
  {
   "cell_type": "raw",
   "metadata": {},
   "source": [
    "self = ProjectPage('briq', '/proyectos/pestalozziC10')\n",
    "self.navigate()\n",
    "payload = self.payload\n",
    "payload"
   ]
  },
  {
   "cell_type": "code",
   "execution_count": null,
   "metadata": {},
   "outputs": [],
   "source": [
    "self = CumploProjectPage('/solicitud/MX/90')\n",
    "self.navigate()\n",
    "payload = self.payload\n",
    "payload"
   ]
  },
  {
   "cell_type": "code",
   "execution_count": null,
   "metadata": {},
   "outputs": [],
   "source": []
  },
  {
   "cell_type": "code",
   "execution_count": null,
   "metadata": {},
   "outputs": [],
   "source": []
  },
  {
   "cell_type": "code",
   "execution_count": null,
   "metadata": {},
   "outputs": [],
   "source": []
  },
  {
   "cell_type": "code",
   "execution_count": null,
   "metadata": {
    "scrolled": true
   },
   "outputs": [],
   "source": []
  },
  {
   "cell_type": "code",
   "execution_count": null,
   "metadata": {},
   "outputs": [],
   "source": []
  },
  {
   "cell_type": "code",
   "execution_count": null,
   "metadata": {},
   "outputs": [],
   "source": []
  },
  {
   "cell_type": "code",
   "execution_count": null,
   "metadata": {},
   "outputs": [],
   "source": []
  }
 ],
 "metadata": {
  "kernelspec": {
   "display_name": "Python 3",
   "language": "python",
   "name": "python3"
  },
  "language_info": {
   "codemirror_mode": {
    "name": "ipython",
    "version": 3
   },
   "file_extension": ".py",
   "mimetype": "text/x-python",
   "name": "python",
   "nbconvert_exporter": "python",
   "pygments_lexer": "ipython3",
   "version": "3.6.7"
  }
 },
 "nbformat": 4,
 "nbformat_minor": 2
}
