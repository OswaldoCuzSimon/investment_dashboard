{
 "cells": [
  {
   "cell_type": "code",
   "execution_count": null,
   "metadata": {},
   "outputs": [],
   "source": [
    "from extract.common import credentials\n",
    "from extract.common import config"
   ]
  },
  {
   "cell_type": "code",
   "execution_count": null,
   "metadata": {},
   "outputs": [],
   "source": []
  },
  {
   "cell_type": "code",
   "execution_count": null,
   "metadata": {},
   "outputs": [],
   "source": [
    "import pymongo\n",
    "from bson.json_util import dumps\n",
    "\n",
    "host = config()['mongodb']['host']\n",
    "user = credentials()['mongodb']['user']\n",
    "password = credentials()['mongodb']['password']\n",
    "\n",
    "class SaveProjects(object):\n",
    "    def __init__(self):\n",
    "        uri = \"mongodb+srv://{}:{}@{}/test?retryWrites=true\".format(user,password,host)\n",
    "        client = pymongo.MongoClient(uri)\n",
    "        self._db = client[config()['mongodb']['db']['name']]\n",
    "    \n",
    "    def save(self, projects):\n",
    "        self._db.project.insert_many(projects)"
   ]
  },
  {
   "cell_type": "code",
   "execution_count": null,
   "metadata": {
    "scrolled": true
   },
   "outputs": [],
   "source": [
    "save_project = SaveProjects()"
   ]
  },
  {
   "cell_type": "code",
   "execution_count": null,
   "metadata": {},
   "outputs": [],
   "source": [
    "save_project._db.project.delete_many({})"
   ]
  },
  {
   "cell_type": "code",
   "execution_count": null,
   "metadata": {},
   "outputs": [],
   "source": [
    "save_project._db.project.estimated_document_count()\n",
    "[i for i in save_project._db.project.find()]"
   ]
  },
  {
   "cell_type": "code",
   "execution_count": null,
   "metadata": {},
   "outputs": [],
   "source": [
    "save_project.save([{\"a\":1},{\"b\":2}])"
   ]
  },
  {
   "cell_type": "code",
   "execution_count": null,
   "metadata": {},
   "outputs": [],
   "source": [
    "10000 + 548.99"
   ]
  },
  {
   "cell_type": "code",
   "execution_count": null,
   "metadata": {},
   "outputs": [],
   "source": [
    "time = 119\n",
    "capital = 12000\n",
    "yield_ = 0.18\n",
    "YEAR = 360\n",
    "MINIMUN = 1000\n",
    "def investment_return(capital, time, yield_):\n",
    "    if capital % MINIMUN != 0:\n",
    "        raise ValueError(\"capital must be multiple of 1000\")\n",
    "    revenue = (capital * yield_ * time)/YEAR\n",
    "    commission_percentage = 0.077328\n",
    "    commission = revenue * commission_percentage\n",
    "    return_ = revenue - commission\n",
    "    return {\n",
    "        \"revenue\": revenue,\n",
    "        \"commission_percentage\": commission_percentage,\n",
    "        \"commission\": commission,\n",
    "        \"return\": return_\n",
    "    }\n",
    "def fix_capital(capital):\n",
    "    if (capital % MINIMUN) == 0:\n",
    "        return 0\n",
    "    capital = MINIMUN - (capital % MINIMUN)\n",
    "    return capital"
   ]
  },
  {
   "cell_type": "code",
   "execution_count": null,
   "metadata": {},
   "outputs": [],
   "source": [
    "investment_return(18000, time, yield_)"
   ]
  },
  {
   "cell_type": "code",
   "execution_count": null,
   "metadata": {},
   "outputs": [],
   "source": [
    "def predict_by_year(initial_capital, vehicles):\n",
    "    capital = initial_capital\n",
    "    days = 0\n",
    "    time_serie = []\n",
    "    for i in vehicles:\n",
    "        invret = investment_return(capital, i['time'], i['yield'])\n",
    "        days += i['time']\n",
    "        capital += invret['return']\n",
    "        complement = fix_capital(capital)\n",
    "        time_serie.append({\n",
    "            \"time\": time,\n",
    "            \"extra_money\": complement,\n",
    "            \"return\": invret\n",
    "        })\n",
    "        capital += complement\n",
    "    extra_money = sum([i['extra_money'] for i in time_serie])\n",
    "    return {\n",
    "        \"time_serie\": time_serie,\n",
    "        \"return\": capital,\n",
    "        \"days\": days,\n",
    "        \"extra_money\": extra_money,\n",
    "        \"investment_capital\": extra_money + initial_capital,\n",
    "        \"profits\": capital - extra_money - initial_capital\n",
    "    }"
   ]
  },
  {
   "cell_type": "code",
   "execution_count": null,
   "metadata": {},
   "outputs": [],
   "source": [
    "vehicles = [{\n",
    "    \"time\": 119,\n",
    "    \"yield\": 0.18\n",
    "},\n",
    "    {\n",
    "    \"time\": 119,\n",
    "    \"yield\": 0.18\n",
    "},\n",
    "    {\n",
    "    \"time\": 119,\n",
    "    \"yield\": 0.18\n",
    "},\n",
    "]\n",
    "prediction = predict_by_year(10000, vehicles)\n",
    "prediction"
   ]
  },
  {
   "cell_type": "code",
   "execution_count": null,
   "metadata": {},
   "outputs": [],
   "source": []
  },
  {
   "cell_type": "code",
   "execution_count": null,
   "metadata": {},
   "outputs": [],
   "source": [
    "10000*0.18"
   ]
  },
  {
   "cell_type": "code",
   "execution_count": null,
   "metadata": {},
   "outputs": [],
   "source": []
  },
  {
   "cell_type": "code",
   "execution_count": null,
   "metadata": {},
   "outputs": [],
   "source": [
    "vehicles = [{\n",
    "    \"time\": 90,\n",
    "    \"yield\": 0.18\n",
    "},\n",
    "    {\n",
    "    \"time\": 90,\n",
    "    \"yield\": 0.18\n",
    "},\n",
    "    {\n",
    "    \"time\": 90,\n",
    "    \"yield\": 0.18\n",
    "},\n",
    "    {\n",
    "    \"time\": 90,\n",
    "    \"yield\": 0.18\n",
    "},\n",
    "]\n",
    "prediction = predict_by_year(10000, vehicles)\n",
    "prediction"
   ]
  },
  {
   "cell_type": "code",
   "execution_count": null,
   "metadata": {},
   "outputs": [],
   "source": [
    "vehicles = [{\n",
    "    \"time\": 365,\n",
    "    \"yield\": 0.18\n",
    "}]\n",
    "prediction = predict_by_year(12000, vehicles)\n",
    "prediction"
   ]
  },
  {
   "cell_type": "code",
   "execution_count": null,
   "metadata": {},
   "outputs": [],
   "source": [
    "2020.651679999999 - 1909.9310399999995"
   ]
  },
  {
   "cell_type": "code",
   "execution_count": null,
   "metadata": {},
   "outputs": [],
   "source": []
  }
 ],
 "metadata": {
  "kernelspec": {
   "display_name": "Python 3",
   "language": "python",
   "name": "python3"
  },
  "language_info": {
   "codemirror_mode": {
    "name": "ipython",
    "version": 3
   },
   "file_extension": ".py",
   "mimetype": "text/x-python",
   "name": "python",
   "nbconvert_exporter": "python",
   "pygments_lexer": "ipython3",
   "version": "3.6.7"
  }
 },
 "nbformat": 4,
 "nbformat_minor": 2
}
