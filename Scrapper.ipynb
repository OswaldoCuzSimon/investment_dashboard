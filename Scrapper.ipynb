{
 "cells": [
  {
   "cell_type": "code",
   "execution_count": null,
   "metadata": {},
   "outputs": [],
   "source": [
    "from extract.scraper import Scraper"
   ]
  },
  {
   "cell_type": "code",
   "execution_count": null,
   "metadata": {},
   "outputs": [],
   "source": [
    "scraper = Scraper(headless=False)\n",
    "scraper.scrape('cumplo')"
   ]
  },
  {
   "cell_type": "code",
   "execution_count": null,
   "metadata": {},
   "outputs": [],
   "source": [
    "import pymongo\n",
    "from bson.json_util import dumps\n",
    "\n",
    "host = credentials()['mongodb']['host']\n",
    "user = credentials()['mongodb']['user']\n",
    "password = credentials()['mongodb']['password']\n",
    "\n",
    "class SaveProjects(object):\n",
    "    def __init__(self):\n",
    "        uri = \"mongodb+srv://{}:{}@{}/test?retryWrites=true\".format(user,password,host)\n",
    "        client = pymongo.MongoClient(uri)\n",
    "        self._db = client['investment']\n",
    "    \n",
    "    def save(self, projects):\n",
    "        self._db.project.insert_many(projects)"
   ]
  },
  {
   "cell_type": "code",
   "execution_count": null,
   "metadata": {
    "scrolled": true
   },
   "outputs": [],
   "source": [
    "save_project = SaveProjects()\n",
    "save_project.save([{\"a\":1},{\"b\":2}])"
   ]
  },
  {
   "cell_type": "code",
   "execution_count": null,
   "metadata": {},
   "outputs": [],
   "source": [
    "save_project._db.project.delete_many([])\n"
   ]
  },
  {
   "cell_type": "code",
   "execution_count": null,
   "metadata": {},
   "outputs": [],
   "source": [
    "save_project._db.project.count()"
   ]
  },
  {
   "cell_type": "code",
   "execution_count": null,
   "metadata": {},
   "outputs": [],
   "source": []
  }
 ],
 "metadata": {
  "kernelspec": {
   "display_name": "Python 3",
   "language": "python",
   "name": "python3"
  },
  "language_info": {
   "codemirror_mode": {
    "name": "ipython",
    "version": 3
   },
   "file_extension": ".py",
   "mimetype": "text/x-python",
   "name": "python",
   "nbconvert_exporter": "python",
   "pygments_lexer": "ipython3",
   "version": "3.6.7"
  }
 },
 "nbformat": 4,
 "nbformat_minor": 2
}
