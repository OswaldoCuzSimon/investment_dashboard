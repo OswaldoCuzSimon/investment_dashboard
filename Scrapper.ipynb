{
 "cells": [
  {
   "cell_type": "code",
   "execution_count": null,
   "metadata": {},
   "outputs": [],
   "source": [
    "#import requests\n",
    "import time\n",
    "import re\n",
    "import time\n",
    "from datetime import datetime\n",
    "from bs4 import BeautifulSoup\n",
    "from selenium import webdriver\n",
    "from selenium.webdriver.support.ui import WebDriverWait\n",
    "from selenium.webdriver.support import expected_conditions as EC\n",
    "from selenium.webdriver.common.by import By\n",
    "from selenium.webdriver.common.keys import Keys\n",
    "from selenium.common.exceptions import TimeoutException\n",
    "from extract.common import config\n",
    "from extract.common import credentials\n",
    "from extract.common import browser"
   ]
  },
  {
   "cell_type": "code",
   "execution_count": null,
   "metadata": {},
   "outputs": [],
   "source": [
    "class LogInPage(object):\n",
    "    def __init__(self, investment_site_uid):\n",
    "        self._config = config()['investment_sites'][investment_site_uid]\n",
    "        self._credentials = credentials()['investment_sites'][investment_site_uid]\n",
    "        self._browser = browser()\n",
    "        self._home = \"{}{}\".format(self._config['url'], self._config['login']['url'])\n",
    "\n",
    "    \n",
    "    def type_user_credential(self):\n",
    "        input_ = self._browser.find_element_by_xpath(self._config['login']['user'])\n",
    "        input_.send_keys(self._credentials['user'])\n",
    "        \n",
    "    def type_password_credential(self):\n",
    "        input_ = self._browser.find_element_by_xpath(self._config['login']['password'])\n",
    "        input_.send_keys(self._credentials['password'])\n",
    "        \n",
    "    def click_login(self):\n",
    "        self._browser.find_element_by_xpath(self._config['login']['button']).click()\n",
    "    \n",
    "    def _auth0(self):\n",
    "        if 'auth0' in self._config['login']:\n",
    "            element = WebDriverWait(self._browser, 10).until(\n",
    "                EC.presence_of_element_located((By.XPATH, self._config['login']['auth0']))\n",
    "            )\n",
    "            self._browser.find_element_by_xpath(self._config['login']['auth0']).click()\n",
    "        \n",
    "    def navigate(self):\n",
    "        self._browser.get(self._home)\n",
    "        self._browser.implicitly_wait(10)\n",
    "        self._auth0()\n",
    "        self.type_user_credential()\n",
    "        self.type_password_credential()\n",
    "        self.click_login()\n",
    "        \n",
    "class ProjectListPage(object):\n",
    "\n",
    "    def __init__(self, investment_site_uid):\n",
    "        self._config = config()['investment_sites'][investment_site_uid]\n",
    "        self._browser = browser()\n",
    "        self._soup = None\n",
    "    @property\n",
    "    def project_urls(self):\n",
    "        pass\n",
    "    \n",
    "    def navigate(self):\n",
    "        self._browser.get(self._home)\n",
    "        if 'wait' in self._config:\n",
    "            WebDriverWait(self._browser, 10).until(\n",
    "                EC.element_to_be_clickable(\n",
    "                    (By.XPATH, self._config['wait'])\n",
    "                )\n",
    "            )\n",
    "        self._browser.implicitly_wait(50)\n",
    "        html = self._browser.find_element_by_tag_name('html')\n",
    "        html.send_keys(Keys.END)\n",
    "        self._browser.implicitly_wait(50)\n",
    "        self._soup=BeautifulSoup(self._browser.page_source, 'html.parser')\n",
    "        \n",
    "class BriqProjectListPage(ProjectListPage):\n",
    "    \n",
    "    def __init__(self):\n",
    "        ProjectListPage.__init__(self,'briq')\n",
    "        self._home = \"{}{}\".format(self._config['url'],self._config['home'])\n",
    "    @property\n",
    "    def project_urls(self):\n",
    "        urls = [i.parent['href'] \n",
    "                        for i in self._soup.find_all('img', {'src': re.compile(r'label_buscando-inversion')})]\n",
    "        return urls\n",
    "\n",
    "class CumploProjectListPage(ProjectListPage):\n",
    "    def __init__(self):\n",
    "        ProjectListPage.__init__(self,'cumplo')\n",
    "        self._home = \"{}{}\".format(self._config['url'],self._config['home'])\n",
    "        \n",
    "    @property\n",
    "    def project_urls(self):       \n",
    "        project_urls = [i.find_parents('div', limit=1)[0].text[3:] for i in self._soup.find_all(text='ID')]\n",
    "        project_urls = ['{}{}'.format('/solicitud/MX/',i) for i in project_urls]\n",
    "\n",
    "        return project_urls"
   ]
  },
  {
   "cell_type": "code",
   "execution_count": null,
   "metadata": {},
   "outputs": [],
   "source": [
    "\n",
    "login_page = LogInPage('cumplo')\n",
    "login_page.navigate()\n",
    "project_page = CumploProjectListPage()\n",
    "project_page.navigate()\n",
    "print(project_page.project_urls)\n"
   ]
  },
  {
   "cell_type": "code",
   "execution_count": null,
   "metadata": {},
   "outputs": [],
   "source": []
  },
  {
   "cell_type": "raw",
   "metadata": {},
   "source": [
    "login_page = LogInPage('briq')\n",
    "login_page.navigate()\n",
    "project_page = BriqProjectListPage()\n",
    "project_page.navigate()\n",
    "project_page.project_urls"
   ]
  },
  {
   "cell_type": "code",
   "execution_count": null,
   "metadata": {},
   "outputs": [],
   "source": []
  },
  {
   "cell_type": "code",
   "execution_count": null,
   "metadata": {},
   "outputs": [],
   "source": []
  },
  {
   "cell_type": "code",
   "execution_count": null,
   "metadata": {},
   "outputs": [],
   "source": []
  },
  {
   "cell_type": "code",
   "execution_count": null,
   "metadata": {},
   "outputs": [],
   "source": []
  },
  {
   "cell_type": "code",
   "execution_count": null,
   "metadata": {},
   "outputs": [],
   "source": []
  }
 ],
 "metadata": {
  "kernelspec": {
   "display_name": "Python 3",
   "language": "python",
   "name": "python3"
  },
  "language_info": {
   "codemirror_mode": {
    "name": "ipython",
    "version": 3
   },
   "file_extension": ".py",
   "mimetype": "text/x-python",
   "name": "python",
   "nbconvert_exporter": "python",
   "pygments_lexer": "ipython3",
   "version": "3.6.7"
  }
 },
 "nbformat": 4,
 "nbformat_minor": 2
}
