{
 "cells": [
  {
   "cell_type": "code",
   "execution_count": null,
   "metadata": {},
   "outputs": [],
   "source": [
    "import time\n",
    "import re\n",
    "import time\n",
    "from datetime import datetime\n",
    "from bs4 import BeautifulSoup\n",
    "from selenium import webdriver\n",
    "from selenium.webdriver.support.ui import WebDriverWait\n",
    "from selenium.webdriver.support import expected_conditions as EC\n",
    "from selenium.webdriver.common.by import By\n",
    "from selenium.webdriver.common.keys import Keys\n",
    "from selenium.common.exceptions import TimeoutException\n",
    "from extract.common import config\n",
    "from extract.common import credentials\n",
    "from extract.common import browser\n",
    "from extract.log_in_page import LogInPage\n",
    "from extract.project_list_page import CumploProjectListPage\n",
    "from extract.project_list_page import BriqProjectListPage\n",
    "from extract.project_page import CumploProjectPage\n",
    "from extract.project_page import BriqProjectPage\n",
    "from extract.factories import ProjectList\n",
    "from extract.factories import Project"
   ]
  },
  {
   "cell_type": "code",
   "execution_count": null,
   "metadata": {},
   "outputs": [],
   "source": []
  },
  {
   "cell_type": "raw",
   "metadata": {},
   "source": [
    "login_page = LogInPage('briq')\n",
    "login_page.navigate()\n",
    "project_list_page = BriqProjectListPage()\n",
    "project_list_page.navigate()\n"
   ]
  },
  {
   "cell_type": "raw",
   "metadata": {},
   "source": [
    "login_page = LogInPage('cumplo')\n",
    "login_page.navigate()\n",
    "project_list_page = CumploProjectListPage()\n",
    "project_list_page.navigate()\n",
    "project_list_page.project_urls"
   ]
  },
  {
   "cell_type": "raw",
   "metadata": {},
   "source": [
    "self = CumploProjectPage('/solicitud/MX/90')\n",
    "self.navigate()\n",
    "payload = self.payload\n",
    "payload"
   ]
  },
  {
   "cell_type": "code",
   "execution_count": null,
   "metadata": {},
   "outputs": [],
   "source": [
    "site = 'cumplo'\n",
    "\n",
    "login_page = LogInPage(site)\n",
    "login_page.navigate()\n"
   ]
  },
  {
   "cell_type": "code",
   "execution_count": null,
   "metadata": {},
   "outputs": [],
   "source": [
    "project_list_page = ProjectList().factory(site)\n",
    "project_list_page.navigate()\n",
    "\n",
    "payloads = []\n",
    "project_page = Project().factory(site)\n",
    "\n",
    "for url_project in project_list_page.project_urls:\n",
    "    project_page.home = url_project\n",
    "    project_page.navigate()\n",
    "    payload = project_page.payload\n",
    "    payloads.append(payload)\n",
    "    print(payload)"
   ]
  },
  {
   "cell_type": "code",
   "execution_count": null,
   "metadata": {},
   "outputs": [],
   "source": []
  },
  {
   "cell_type": "code",
   "execution_count": null,
   "metadata": {
    "scrolled": true
   },
   "outputs": [],
   "source": [
    "\n"
   ]
  },
  {
   "cell_type": "code",
   "execution_count": null,
   "metadata": {},
   "outputs": [],
   "source": []
  },
  {
   "cell_type": "code",
   "execution_count": null,
   "metadata": {},
   "outputs": [],
   "source": []
  },
  {
   "cell_type": "code",
   "execution_count": null,
   "metadata": {},
   "outputs": [],
   "source": []
  }
 ],
 "metadata": {
  "kernelspec": {
   "display_name": "Python 3",
   "language": "python",
   "name": "python3"
  },
  "language_info": {
   "codemirror_mode": {
    "name": "ipython",
    "version": 3
   },
   "file_extension": ".py",
   "mimetype": "text/x-python",
   "name": "python",
   "nbconvert_exporter": "python",
   "pygments_lexer": "ipython3",
   "version": "3.6.7"
  }
 },
 "nbformat": 4,
 "nbformat_minor": 2
}
