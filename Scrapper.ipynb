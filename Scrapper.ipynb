{
 "cells": [
  {
   "cell_type": "markdown",
   "metadata": {},
   "source": [
    "# Scraper"
   ]
  },
  {
   "cell_type": "code",
   "execution_count": null,
   "metadata": {},
   "outputs": [],
   "source": [
    "from extract.common import credentials\n",
    "from extract.common import config"
   ]
  },
  {
   "cell_type": "code",
   "execution_count": null,
   "metadata": {},
   "outputs": [],
   "source": []
  },
  {
   "cell_type": "code",
   "execution_count": null,
   "metadata": {},
   "outputs": [],
   "source": [
    "import pymongo\n",
    "from bson.json_util import dumps\n",
    "\n",
    "host = config()['mongodb']['host']\n",
    "user = credentials()['mongodb']['user']\n",
    "password = credentials()['mongodb']['password']\n",
    "\n",
    "class SaveProjects(object):\n",
    "    def __init__(self):\n",
    "        uri = \"mongodb+srv://{}:{}@{}/test?retryWrites=true\".format(user,password,host)\n",
    "        client = pymongo.MongoClient(uri)\n",
    "        self._db = client[config()['mongodb']['db']['name']]\n",
    "    \n",
    "    def save(self, projects):\n",
    "        self._db.project.insert_many(projects)"
   ]
  },
  {
   "cell_type": "code",
   "execution_count": null,
   "metadata": {
    "scrolled": true
   },
   "outputs": [],
   "source": [
    "save_project = SaveProjects()"
   ]
  },
  {
   "cell_type": "code",
   "execution_count": null,
   "metadata": {},
   "outputs": [],
   "source": [
    "save_project._db.project.delete_many({})"
   ]
  },
  {
   "cell_type": "code",
   "execution_count": null,
   "metadata": {},
   "outputs": [],
   "source": [
    "save_project._db.project.estimated_document_count()\n",
    "[i for i in save_project._db.project.find()]"
   ]
  },
  {
   "cell_type": "code",
   "execution_count": null,
   "metadata": {},
   "outputs": [],
   "source": [
    "save_project.save([{\"a\":1},{\"b\":2}])"
   ]
  },
  {
   "cell_type": "code",
   "execution_count": null,
   "metadata": {},
   "outputs": [],
   "source": []
  },
  {
   "cell_type": "code",
   "execution_count": 9,
   "metadata": {},
   "outputs": [
    {
     "data": {
      "text/plain": [
       "1825"
      ]
     },
     "execution_count": 9,
     "metadata": {},
     "output_type": "execute_result"
    }
   ],
   "source": []
  },
  {
   "cell_type": "code",
   "execution_count": 21,
   "metadata": {},
   "outputs": [
    {
     "data": {
      "text/plain": [
       "17"
      ]
     },
     "execution_count": 21,
     "metadata": {},
     "output_type": "execute_result"
    }
   ],
   "source": [
    "from math import ceil\n",
    "def year_to_periods(year, period_size):\n",
    "    return ceil(365*year/period_size)\n",
    "year_to_periods(4, 90)"
   ]
  },
  {
   "cell_type": "code",
   "execution_count": 2,
   "metadata": {},
   "outputs": [],
   "source": [
    "from calculator.cumplo import predict_by_year\n",
    "from calculator.cumplo import investment_return\n",
    "from calculator.cumplo import fix_capital_no_extra\n",
    "from calculator.cumplo import to_dataframe\n",
    "from calculator.cumplo import predict_by_year_no_extra"
   ]
  },
  {
   "cell_type": "code",
   "execution_count": 26,
   "metadata": {},
   "outputs": [
    {
     "data": {
      "text/plain": [
       "{'time_serie': [{'time': 90,\n",
       "   'extra_money': 0,\n",
       "   'return': {'revenue': 225.0,\n",
       "    'commission_percentage': 0.077328,\n",
       "    'commission': 17.398799999999998,\n",
       "    'return': 207.6012},\n",
       "   'capital': 5207.6012},\n",
       "  {'time': 180,\n",
       "   'extra_money': 0,\n",
       "   'return': {'revenue': 225.0,\n",
       "    'commission_percentage': 0.077328,\n",
       "    'commission': 17.398799999999998,\n",
       "    'return': 207.6012},\n",
       "   'capital': 5415.2024},\n",
       "  {'time': 270,\n",
       "   'extra_money': 0,\n",
       "   'return': {'revenue': 225.0,\n",
       "    'commission_percentage': 0.077328,\n",
       "    'commission': 17.398799999999998,\n",
       "    'return': 207.6012},\n",
       "   'capital': 5622.8036},\n",
       "  {'time': 360,\n",
       "   'extra_money': 0,\n",
       "   'return': {'revenue': 225.0,\n",
       "    'commission_percentage': 0.077328,\n",
       "    'commission': 17.398799999999998,\n",
       "    'return': 207.6012},\n",
       "   'capital': 5830.4048},\n",
       "  {'time': 450,\n",
       "   'extra_money': 0,\n",
       "   'return': {'revenue': 225.0,\n",
       "    'commission_percentage': 0.077328,\n",
       "    'commission': 17.398799999999998,\n",
       "    'return': 207.6012},\n",
       "   'capital': 6038.006},\n",
       "  {'time': 540,\n",
       "   'extra_money': 0,\n",
       "   'return': {'revenue': 270.0,\n",
       "    'commission_percentage': 0.077328,\n",
       "    'commission': 20.878559999999997,\n",
       "    'return': 249.12144},\n",
       "   'capital': 6287.12744},\n",
       "  {'time': 630,\n",
       "   'extra_money': 0,\n",
       "   'return': {'revenue': 270.0,\n",
       "    'commission_percentage': 0.077328,\n",
       "    'commission': 20.878559999999997,\n",
       "    'return': 249.12144},\n",
       "   'capital': 6536.24888},\n",
       "  {'time': 720,\n",
       "   'extra_money': 0,\n",
       "   'return': {'revenue': 270.0,\n",
       "    'commission_percentage': 0.077328,\n",
       "    'commission': 20.878559999999997,\n",
       "    'return': 249.12144},\n",
       "   'capital': 6785.37032},\n",
       "  {'time': 810,\n",
       "   'extra_money': 0,\n",
       "   'return': {'revenue': 270.0,\n",
       "    'commission_percentage': 0.077328,\n",
       "    'commission': 20.878559999999997,\n",
       "    'return': 249.12144},\n",
       "   'capital': 7034.49176},\n",
       "  {'time': 900,\n",
       "   'extra_money': 0,\n",
       "   'return': {'revenue': 315.0,\n",
       "    'commission_percentage': 0.077328,\n",
       "    'commission': 24.35832,\n",
       "    'return': 290.64168},\n",
       "   'capital': 7325.13344},\n",
       "  {'time': 990,\n",
       "   'extra_money': 0,\n",
       "   'return': {'revenue': 315.0,\n",
       "    'commission_percentage': 0.077328,\n",
       "    'commission': 24.35832,\n",
       "    'return': 290.64168},\n",
       "   'capital': 7615.775119999999},\n",
       "  {'time': 1080,\n",
       "   'extra_money': 0,\n",
       "   'return': {'revenue': 315.0,\n",
       "    'commission_percentage': 0.077328,\n",
       "    'commission': 24.35832,\n",
       "    'return': 290.64168},\n",
       "   'capital': 7906.416799999999},\n",
       "  {'time': 1170,\n",
       "   'extra_money': 0,\n",
       "   'return': {'revenue': 315.0,\n",
       "    'commission_percentage': 0.077328,\n",
       "    'commission': 24.35832,\n",
       "    'return': 290.64168},\n",
       "   'capital': 8197.05848},\n",
       "  {'time': 1260,\n",
       "   'extra_money': 0,\n",
       "   'return': {'revenue': 360.0,\n",
       "    'commission_percentage': 0.077328,\n",
       "    'commission': 27.838079999999998,\n",
       "    'return': 332.16192},\n",
       "   'capital': 8529.2204},\n",
       "  {'time': 1350,\n",
       "   'extra_money': 0,\n",
       "   'return': {'revenue': 360.0,\n",
       "    'commission_percentage': 0.077328,\n",
       "    'commission': 27.838079999999998,\n",
       "    'return': 332.16192},\n",
       "   'capital': 8861.38232},\n",
       "  {'time': 1440,\n",
       "   'extra_money': 0,\n",
       "   'return': {'revenue': 360.0,\n",
       "    'commission_percentage': 0.077328,\n",
       "    'commission': 27.838079999999998,\n",
       "    'return': 332.16192},\n",
       "   'capital': 9193.544240000001},\n",
       "  {'time': 1530,\n",
       "   'extra_money': 0,\n",
       "   'return': {'revenue': 405.0,\n",
       "    'commission_percentage': 0.077328,\n",
       "    'commission': 31.317839999999997,\n",
       "    'return': 373.68216},\n",
       "   'capital': 9567.226400000001},\n",
       "  {'time': 1620,\n",
       "   'extra_money': 0,\n",
       "   'return': {'revenue': 405.0,\n",
       "    'commission_percentage': 0.077328,\n",
       "    'commission': 31.317839999999997,\n",
       "    'return': 373.68216},\n",
       "   'capital': 9940.908560000002}],\n",
       " 'return': 9940.908560000002,\n",
       " 'days': 1620,\n",
       " 'extra_money': 0,\n",
       " 'investment_capital': 5000,\n",
       " 'profits': 4940.908560000002}"
      ]
     },
     "execution_count": 26,
     "metadata": {},
     "output_type": "execute_result"
    }
   ],
   "source": [
    "vehicles = [{\n",
    "    \"time\": 90,\n",
    "    \"yield\": 0.18,\n",
    "    \"capital\": 0\n",
    "} for i in range(18)]\n",
    "vehicles[0]['capital'] = 5000\n",
    "prediction = predict_by_year_no_extra(vehicles)\n",
    "prediction"
   ]
  },
  {
   "cell_type": "code",
   "execution_count": 27,
   "metadata": {},
   "outputs": [],
   "source": [
    "\n",
    "\n",
    "import iplotter\n",
    "from IPython.core.display import HTML\n",
    "from visualize.chart import Chart"
   ]
  },
  {
   "cell_type": "code",
   "execution_count": 28,
   "metadata": {},
   "outputs": [],
   "source": [
    "df = to_dataframe(prediction)\n",
    "invested = (df['capital']-df['return']).tolist()\n",
    "profits = df['return'].tolist()\n",
    "x = df.index.strftime('%Y-%m-%d').tolist()"
   ]
  },
  {
   "cell_type": "code",
   "execution_count": 29,
   "metadata": {},
   "outputs": [
    {
     "data": {
      "text/html": [
       "<iframe srcdoc=\"\n",
       "        <!-- Load c3.css -->\n",
       "        <link href='https://cdnjs.cloudflare.com/ajax/libs/c3/0.4.10/c3.min.css' rel='stylesheet' type='text/css'/>\n",
       "\n",
       "        <!-- Load d3.js and c3.js -->\n",
       "        <script src='http://d3js.org/d3.v3.min.js' charset='utf-8'></script>\n",
       "        <script src='http://cdnjs.cloudflare.com/ajax/libs/c3/0.4.10/c3.min.js'></script>\n",
       "\n",
       "    \n",
       "        <div id=chart style='width: 100%; height: 100%'></div>\n",
       "        <script>\n",
       "            var chart = document.getElementById('chart');\n",
       "            var data = {\n",
       "    'data': {\n",
       "        'x': 'x',\n",
       "        'columns': [\n",
       "            [\n",
       "                'x',\n",
       "                '2019-05-03',\n",
       "                '2019-08-01',\n",
       "                '2019-10-30',\n",
       "                '2020-01-28',\n",
       "                '2020-04-27',\n",
       "                '2020-07-26',\n",
       "                '2020-10-24',\n",
       "                '2021-01-22',\n",
       "                '2021-04-22',\n",
       "                '2021-07-21',\n",
       "                '2021-10-19',\n",
       "                '2022-01-17',\n",
       "                '2022-04-17',\n",
       "                '2022-07-16',\n",
       "                '2022-10-14',\n",
       "                '2023-01-12',\n",
       "                '2023-04-12',\n",
       "                '2023-07-11'\n",
       "            ],\n",
       "            [\n",
       "                'invested',\n",
       "                5000.0,\n",
       "                5000.0,\n",
       "                5000.0,\n",
       "                5000.0,\n",
       "                5000.0,\n",
       "                5000.0,\n",
       "                5000.0,\n",
       "                5000.0,\n",
       "                5000.0,\n",
       "                5000.0,\n",
       "                4999.999999999999,\n",
       "                4999.999999999998,\n",
       "                4999.999999999999,\n",
       "                5000.0,\n",
       "                5000.0,\n",
       "                5000.0,\n",
       "                5000.0,\n",
       "                5000.0\n",
       "            ],\n",
       "            [\n",
       "                'profits',\n",
       "                207.6012,\n",
       "                415.2024,\n",
       "                622.8036,\n",
       "                830.4048,\n",
       "                1038.006,\n",
       "                1287.1274400000002,\n",
       "                1536.24888,\n",
       "                1785.37032,\n",
       "                2034.4917599999999,\n",
       "                2325.13344,\n",
       "                2615.7751200000002,\n",
       "                2906.4168000000004,\n",
       "                3197.0584800000006,\n",
       "                3529.2204000000006,\n",
       "                3861.3823200000006,\n",
       "                4193.544240000001,\n",
       "                4567.226400000001,\n",
       "                4940.908560000002\n",
       "            ]\n",
       "        ],\n",
       "        'types': {\n",
       "            'profits': 'area-spline',\n",
       "            'invested': 'area-spline'\n",
       "        },\n",
       "        'groups': [\n",
       "            [\n",
       "                'profits',\n",
       "                'invested'\n",
       "            ]\n",
       "        ]\n",
       "    },\n",
       "    'axis': {\n",
       "        'x': {\n",
       "            'type': 'timeseries',\n",
       "            'tick': {\n",
       "                'format': '%Y-%m-%d'\n",
       "            }\n",
       "        }\n",
       "    }\n",
       "};\n",
       "            data['bindto']='#chart'\n",
       "            c3.generate(data);\n",
       "        </script>\n",
       "    \" src=\"\" width=\"800\" height=\"420\" frameborder=0 sandbox=\"allow-scripts\"></iframe>"
      ],
      "text/plain": [
       "<IPython.core.display.HTML object>"
      ]
     },
     "execution_count": 29,
     "metadata": {},
     "output_type": "execute_result"
    }
   ],
   "source": [
    "chart = Chart().stacked_area(x, profits, invested)\n",
    "HTML(Chart.html)\n",
    "c3_plotter = iplotter.C3Plotter()\n",
    "c3_plotter.plot(chart)"
   ]
  },
  {
   "cell_type": "code",
   "execution_count": null,
   "metadata": {},
   "outputs": [],
   "source": []
  }
 ],
 "metadata": {
  "kernelspec": {
   "display_name": "Python 3",
   "language": "python",
   "name": "python3"
  },
  "language_info": {
   "codemirror_mode": {
    "name": "ipython",
    "version": 3
   },
   "file_extension": ".py",
   "mimetype": "text/x-python",
   "name": "python",
   "nbconvert_exporter": "python",
   "pygments_lexer": "ipython3",
   "version": "3.6.7"
  }
 },
 "nbformat": 4,
 "nbformat_minor": 2
}
