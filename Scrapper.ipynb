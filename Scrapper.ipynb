{
 "cells": [
  {
   "cell_type": "code",
   "execution_count": null,
   "metadata": {},
   "outputs": [],
   "source": [
    "#import requests\n",
    "import time\n",
    "import re\n",
    "from datetime import datetime\n",
    "from bs4 import BeautifulSoup\n",
    "from selenium import webdriver\n",
    "from selenium.webdriver.support.ui import WebDriverWait\n",
    "from selenium.webdriver.support import expected_conditions as EC\n",
    "from selenium.webdriver.common.by import By\n",
    "from selenium.common.exceptions import TimeoutException\n",
    "from extract.common import config\n",
    "from extract.common import credentials\n",
    "from extract.common import browser"
   ]
  },
  {
   "cell_type": "code",
   "execution_count": null,
   "metadata": {},
   "outputs": [],
   "source": [
    "class LogInPage(object):\n",
    "    def __init__(self, investment_site_uid):\n",
    "        self._config = config()['investment_sites'][investment_site_uid]\n",
    "        self._credentials = credentials()['investment_sites'][investment_site_uid]\n",
    "        self._browser = browser()\n",
    "        self._visit()\n",
    "    \n",
    "    def type_user_credential(self):\n",
    "        input_ = self._browser.find_element_by_xpath(self._config['login']['user'])\n",
    "        input_.send_keys(self._credentials['user'])\n",
    "        \n",
    "    def type_password_credential(self):\n",
    "        input_ = self._browser.find_element_by_xpath(self._config['login']['password'])\n",
    "        input_.send_keys(self._credentials['password'])\n",
    "        \n",
    "    def click_login(self):\n",
    "        self._browser.find_element_by_xpath(self._config['login']['button']).click()\n",
    "        \n",
    "    def _visit(self):\n",
    "        home = \"{}{}\".format(self._config['url'],self._config['login']['url'])\n",
    "        self._browser.get(home)\n",
    "        self._browser.implicitly_wait(10)\n",
    "        self.type_user_credential()\n",
    "        self.type_password_credential()\n",
    "        self.click_login()\n",
    "        \n",
    "class ProjectListPage:\n",
    "\n",
    "    def __init__(self, investment_site_uid):\n",
    "        self._config = config()['investment_sites'][investment_site_uid]\n",
    "        self._browser = browser()\n",
    "        self._soup = None\n",
    "\n",
    "        self._visit()\n",
    "\n",
    "    @property\n",
    "    def project_urls(self):\n",
    "        urls = [i.parent['href'] \n",
    "                        for i in self._soup.find_all('img', {'src': re.compile(r'label_buscando-inversion')})]\n",
    "        return urls\n",
    "    \n",
    "    def _visit(self):\n",
    "        home = \"{}{}\".format(self._config['url'],self._config['home'])\n",
    "        self._browser.get(home)\n",
    "        self._browser.implicitly_wait(10)\n",
    "        self._soup=BeautifulSoup(self._browser.page_source, 'html.parser')\n"
   ]
  },
  {
   "cell_type": "code",
   "execution_count": null,
   "metadata": {},
   "outputs": [],
   "source": [
    "login_page = LogInPage('briq')\n",
    "project_page = ProjectListPage('briq')\n",
    "project_page.project_urls"
   ]
  },
  {
   "cell_type": "code",
   "execution_count": null,
   "metadata": {},
   "outputs": [],
   "source": [
    "\n"
   ]
  },
  {
   "cell_type": "code",
   "execution_count": null,
   "metadata": {},
   "outputs": [],
   "source": []
  },
  {
   "cell_type": "code",
   "execution_count": null,
   "metadata": {},
   "outputs": [],
   "source": []
  },
  {
   "cell_type": "code",
   "execution_count": null,
   "metadata": {},
   "outputs": [],
   "source": []
  },
  {
   "cell_type": "code",
   "execution_count": null,
   "metadata": {},
   "outputs": [],
   "source": []
  },
  {
   "cell_type": "code",
   "execution_count": null,
   "metadata": {},
   "outputs": [],
   "source": []
  },
  {
   "cell_type": "code",
   "execution_count": null,
   "metadata": {},
   "outputs": [],
   "source": []
  },
  {
   "cell_type": "code",
   "execution_count": null,
   "metadata": {},
   "outputs": [],
   "source": []
  },
  {
   "cell_type": "code",
   "execution_count": null,
   "metadata": {},
   "outputs": [],
   "source": []
  },
  {
   "cell_type": "code",
   "execution_count": null,
   "metadata": {},
   "outputs": [],
   "source": []
  },
  {
   "cell_type": "code",
   "execution_count": null,
   "metadata": {},
   "outputs": [],
   "source": []
  }
 ],
 "metadata": {
  "kernelspec": {
   "display_name": "Python 3",
   "language": "python",
   "name": "python3"
  },
  "language_info": {
   "codemirror_mode": {
    "name": "ipython",
    "version": 3
   },
   "file_extension": ".py",
   "mimetype": "text/x-python",
   "name": "python",
   "nbconvert_exporter": "python",
   "pygments_lexer": "ipython3",
   "version": "3.6.7"
  }
 },
 "nbformat": 4,
 "nbformat_minor": 2
}
