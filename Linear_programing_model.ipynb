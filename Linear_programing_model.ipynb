{
 "cells": [
  {
   "cell_type": "code",
   "execution_count": null,
   "metadata": {},
   "outputs": [],
   "source": [
    "from pulp import *\n",
    "\n",
    "# Create the 'prob' variable to contain the problem data\n",
    "prob = LpProblem(\"Investment\", LpMaximize)\n",
    "\n",
    "# Create problem variables\n",
    "x=LpVariable(\"cumplo\",0,None,LpInteger)\n",
    "y=LpVariable(\"briq\",0, None, LpInteger)\n",
    "x1=LpVariable(\"mul_cumplo\",0,None,LpInteger)\n",
    "y1=LpVariable(\"mul_briq\",0, None, LpInteger)\n",
    "\n",
    "# The objective function is added to 'prob' first\n",
    "prob += 0.18*x + 0.2*y, \"profits to be maximized\"\n",
    "# The two constraints are entered\n",
    "prob += x + y <= 20000, \"capital constraint\"\n",
    "prob += x - x1*1000 == 0, \"multiple constraint cumplo\"\n",
    "prob += y - y1*3000 == 0, \"multiple constraint briq\"\n",
    "\n",
    "# The problem data is written to an .lp file\n",
    "prob.writeLP(\"Investment.lp\")\n",
    "\n",
    "# The problem is solved using PuLP's choice of Solver\n",
    "prob.solve()\n",
    "print(\"Status:\", LpStatus[prob.status])\n",
    "# Output= \n",
    "# Status: Optimal\n",
    "\n",
    "# Each of the variables is printed with it's resolved optimum value\n",
    "for v in prob.variables():\n",
    "    print(v.name, \"=\", v.varValue)\n",
    "# Output=\n",
    "# Medicine_1_units = 3.0\n",
    "# Medicine_2_units = 4.0\n",
    "\n",
    "# The optimised objective function value is printed to the screen\n",
    "print(\"Total Health that can be restored = \", value(prob.objective))\n",
    "# Output= \n",
    "# Total Health that can be restored =  155.0"
   ]
  },
  {
   "cell_type": "code",
   "execution_count": null,
   "metadata": {},
   "outputs": [],
   "source": [
    "prob"
   ]
  },
  {
   "cell_type": "code",
   "execution_count": null,
   "metadata": {},
   "outputs": [],
   "source": []
  },
  {
   "cell_type": "code",
   "execution_count": 1,
   "metadata": {},
   "outputs": [
    {
     "name": "stdout",
     "output_type": "stream",
     "text": [
      "cumplo 0.18\n",
      "mul_cumplo 0\n",
      "briq 0.2\n",
      "mul_briq 0\n",
      "Status: Optimal\n",
      "vars_briq = 18000.0\n",
      "vars_cumplo = 2000.0\n",
      "vars_mul_briq = 6.0\n",
      "vars_mul_cumplo = 2.0\n",
      "Total Health that can be restored =  3960.0\n"
     ]
    }
   ],
   "source": [
    "from diversification.builder import DiversificationBuilder\n",
    "import numpy as np\n",
    "from pulp import *\n",
    "\n",
    "builder = DiversificationBuilder('diver', 20000)\n",
    "products = [{\n",
    "        \"name\": \"cumplo\",\n",
    "        \"max\": 50000,\n",
    "        \"min\": 0,\n",
    "        \"increment\": 1000,\n",
    "        \"yield\": 0.18\n",
    "    },\n",
    "    \n",
    "    {\n",
    "        \"name\": \"briq\",\n",
    "        \"max\": 50000,\n",
    "        \"min\": 0,\n",
    "        \"increment\": 3000,\n",
    "        \"yield\": 0.2\n",
    "    }\n",
    "]\n",
    "builder.add_products(products)\n",
    "builder.prob.writeLP(\"Investment.lp\")\n",
    "\n",
    "# The problem is solved using PuLP's choice of Solver\n",
    "builder.prob.solve()\n",
    "print(\"Status:\", LpStatus[builder.prob.status])\n",
    "for v in builder.prob.variables():\n",
    "    print(v.name, \"=\", v.varValue)\n",
    "print(\"Total Health that can be restored = \", value(builder.prob.objective))"
   ]
  },
  {
   "cell_type": "code",
   "execution_count": 2,
   "metadata": {},
   "outputs": [
    {
     "data": {
      "text/plain": [
       "diver:\n",
       "MAXIMIZE\n",
       "0.2*vars_briq + 0.18*vars_cumplo + 0.0\n",
       "SUBJECT TO\n",
       "capital: vars_briq + vars_cumplo <= 20000\n",
       "\n",
       "multiple_1: vars_cumplo - 1000 vars_mul_cumplo = 0\n",
       "\n",
       "multiple_2: vars_briq - 3000 vars_mul_briq = 0\n",
       "\n",
       "VARIABLES\n",
       "0 <= vars_briq Integer\n",
       "0 <= vars_cumplo Integer\n",
       "0 <= vars_mul_briq Integer\n",
       "0 <= vars_mul_cumplo Integer"
      ]
     },
     "execution_count": 2,
     "metadata": {},
     "output_type": "execute_result"
    }
   ],
   "source": [
    "builder.prob\n"
   ]
  },
  {
   "cell_type": "code",
   "execution_count": null,
   "metadata": {},
   "outputs": [],
   "source": [
    "\n",
    "get_multiple_constraint(builder, products[0])"
   ]
  },
  {
   "cell_type": "code",
   "execution_count": null,
   "metadata": {},
   "outputs": [],
   "source": [
    "np.zeros((1, len(builder.x)))"
   ]
  },
  {
   "cell_type": "code",
   "execution_count": null,
   "metadata": {},
   "outputs": [],
   "source": [
    "100/19"
   ]
  },
  {
   "cell_type": "code",
   "execution_count": null,
   "metadata": {},
   "outputs": [],
   "source": [
    "19/100"
   ]
  },
  {
   "cell_type": "code",
   "execution_count": null,
   "metadata": {},
   "outputs": [],
   "source": []
  }
 ],
 "metadata": {
  "kernelspec": {
   "display_name": "Python 3",
   "language": "python",
   "name": "python3"
  },
  "language_info": {
   "codemirror_mode": {
    "name": "ipython",
    "version": 3
   },
   "file_extension": ".py",
   "mimetype": "text/x-python",
   "name": "python",
   "nbconvert_exporter": "python",
   "pygments_lexer": "ipython3",
   "version": "3.6.7"
  }
 },
 "nbformat": 4,
 "nbformat_minor": 2
}
