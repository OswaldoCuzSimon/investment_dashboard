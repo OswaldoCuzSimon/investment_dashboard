{
 "cells": [
  {
   "cell_type": "code",
   "execution_count": null,
   "metadata": {},
   "outputs": [],
   "source": [
    "from pulp import *\n",
    "\n",
    "# Create the 'prob' variable to contain the problem data\n",
    "prob = LpProblem(\"The Miracle Worker\", LpMaximize)\n",
    "\n",
    "# Create problem variables\n",
    "x=LpVariable(\"Medicine_1_units\",0,None,LpInteger)\n",
    "y=LpVariable(\"Medicine_2_units\",0, None, LpInteger)\n",
    "\n",
    "# The objective function is added to 'prob' first\n",
    "prob += 25*x + 20*y, \"Health restored; to be maximized\"\n",
    "# The two constraints are entered\n",
    "prob += 3*x + 4*y <= 25, \"Herb A constraint\"\n",
    "prob += 2*x + y <= 10, \"Herb B constraint\"\n",
    "\n",
    "# The problem data is written to an .lp file\n",
    "prob.writeLP(\"MiracleWorker.lp\")\n",
    "\n",
    "# The problem is solved using PuLP's choice of Solver\n",
    "prob.solve()\n",
    "print(\"Status:\", LpStatus[prob.status])\n",
    "# Output= \n",
    "# Status: Optimal\n",
    "\n",
    "# Each of the variables is printed with it's resolved optimum value\n",
    "for v in prob.variables():\n",
    "    print(v.name, \"=\", v.varValue)\n",
    "# Output=\n",
    "# Medicine_1_units = 3.0\n",
    "# Medicine_2_units = 4.0\n",
    "\n",
    "# The optimised objective function value is printed to the screen\n",
    "print(\"Total Health that can be restored = \", value(prob.objective))\n",
    "# Output= \n",
    "# Total Health that can be restored =  155.0"
   ]
  },
  {
   "cell_type": "code",
   "execution_count": null,
   "metadata": {},
   "outputs": [],
   "source": []
  },
  {
   "cell_type": "code",
   "execution_count": null,
   "metadata": {},
   "outputs": [],
   "source": []
  },
  {
   "cell_type": "code",
   "execution_count": null,
   "metadata": {},
   "outputs": [],
   "source": [
    "from diversification.builder import DiversificationBuilder\n",
    "builder = DiversificationBuilder('diver')\n",
    "products = [{\n",
    "        \"name\": \"cumplo\",\n",
    "        \"max\": 50000,\n",
    "        \"min\": 1000,\n",
    "        \"increment\": 1000,\n",
    "        \"yield\": 0.18\n",
    "    },\n",
    "    \n",
    "    {\n",
    "        \"name\": \"briq\",\n",
    "        \"max\": 50000,\n",
    "        \"min\": 5000,\n",
    "        \"increment\": 3000,\n",
    "        \"yield\": 0.19\n",
    "    }\n",
    "]\n",
    "builder.add_products(products)"
   ]
  },
  {
   "cell_type": "code",
   "execution_count": null,
   "metadata": {},
   "outputs": [],
   "source": [
    "builder.coeff"
   ]
  },
  {
   "cell_type": "code",
   "execution_count": null,
   "metadata": {},
   "outputs": [],
   "source": [
    "import numpy as np\n",
    "np.zeros((1, len(builder.x)))"
   ]
  },
  {
   "cell_type": "code",
   "execution_count": null,
   "metadata": {},
   "outputs": [],
   "source": []
  }
 ],
 "metadata": {
  "kernelspec": {
   "display_name": "Python 3",
   "language": "python",
   "name": "python3"
  },
  "language_info": {
   "codemirror_mode": {
    "name": "ipython",
    "version": 3
   },
   "file_extension": ".py",
   "mimetype": "text/x-python",
   "name": "python",
   "nbconvert_exporter": "python",
   "pygments_lexer": "ipython3",
   "version": "3.6.7"
  }
 },
 "nbformat": 4,
 "nbformat_minor": 2
}
