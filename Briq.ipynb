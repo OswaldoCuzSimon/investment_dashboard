{
 "cells": [
  {
   "cell_type": "code",
   "execution_count": null,
   "metadata": {},
   "outputs": [],
   "source": [
    "def ganancia_briq(cantidad,interes_anual, comision, meses_duracion):\n",
    "    interes_anual /=100\n",
    "    comision /=100\n",
    "    result = {}\n",
    "    ganancia_intereses_anual = interes_anual * cantidad\n",
    "    ganancia_intereses_total = ganancia_intereses_anual*meses_duracion/12\n",
    "    result['ganancia_intereses_total'] = ganancia_intereses_total\n",
    "    pago_ISR = ganancia_intereses_total * 0.2\n",
    "    result['pago_ISR'] = pago_ISR\n",
    "    pago_comision = (cantidad + ganancia_intereses_total)*comision\n",
    "    result['pago_comision'] = pago_comision\n",
    "    ganancia = ganancia_intereses_total - pago_ISR - pago_comision\n",
    "    result['ganancia'] = ganancia\n",
    "    ganancia_mensual = ganancia/meses_duracion\n",
    "    result['ganancia_mensual'] = ganancia_mensual\n",
    "    return result\n"
   ]
  },
  {
   "cell_type": "code",
   "execution_count": 4,
   "metadata": {},
   "outputs": [
    {
     "data": {
      "text/plain": [
       "{'ganancia_intereses_total': 2160.0,\n",
       " 'pago_ISR': 432.0,\n",
       " 'pago_comision': 14.16,\n",
       " 'ganancia': 1713.84,\n",
       " 'ganancia_mensual': 142.82}"
      ]
     },
     "execution_count": 4,
     "metadata": {},
     "output_type": "execute_result"
    }
   ],
   "source": [
    "cantidad = 12000\n",
    "interes_anual = 18\n",
    "comision = 0.1\n",
    "meses_duracion = 12\n",
    "ganancia_briq(cantidad,interes_anual, comision, meses_duracion)"
   ]
  },
  {
   "cell_type": "code",
   "execution_count": 6,
   "metadata": {},
   "outputs": [
    {
     "data": {
      "text/plain": [
       "2800.0000000000005"
      ]
     },
     "execution_count": 6,
     "metadata": {},
     "output_type": "execute_result"
    }
   ],
   "source": [
    "10000*0.14*2"
   ]
  },
  {
   "cell_type": "code",
   "execution_count": null,
   "metadata": {},
   "outputs": [],
   "source": []
  },
  {
   "cell_type": "code",
   "execution_count": null,
   "metadata": {},
   "outputs": [],
   "source": []
  },
  {
   "cell_type": "code",
   "execution_count": null,
   "metadata": {},
   "outputs": [],
   "source": []
  },
  {
   "cell_type": "raw",
   "metadata": {},
   "source": []
  },
  {
   "cell_type": "code",
   "execution_count": null,
   "metadata": {},
   "outputs": [],
   "source": []
  },
  {
   "cell_type": "code",
   "execution_count": null,
   "metadata": {},
   "outputs": [],
   "source": []
  },
  {
   "cell_type": "code",
   "execution_count": null,
   "metadata": {},
   "outputs": [],
   "source": []
  }
 ],
 "metadata": {
  "kernelspec": {
   "display_name": "Python 3",
   "language": "python",
   "name": "python3"
  },
  "language_info": {
   "codemirror_mode": {
    "name": "ipython",
    "version": 3
   },
   "file_extension": ".py",
   "mimetype": "text/x-python",
   "name": "python",
   "nbconvert_exporter": "python",
   "pygments_lexer": "ipython3",
   "version": "3.6.7"
  }
 },
 "nbformat": 4,
 "nbformat_minor": 2
}
